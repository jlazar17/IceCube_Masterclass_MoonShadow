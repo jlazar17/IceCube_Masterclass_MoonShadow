{
 "cells": [
  {
   "cell_type": "code",
   "execution_count": null,
   "id": "980f0ad4-93eb-4f3b-8d47-52acf3406177",
   "metadata": {},
   "outputs": [],
   "source": [
    "import sys\n",
    "sys.path.append(\"/Users/jlazar/research/IceCube_Masterclass_MoonShadow/\")"
   ]
  },
  {
   "cell_type": "markdown",
   "id": "778f915c-1b2a-41ee-b5a5-d9aa457a8659",
   "metadata": {},
   "source": [
    "# Zenith and Azimuth\n",
    "\n",
    "To talk about which direction some is coming from, we usually think about this in terms of two angles, the zenith and azimuth. If you are familiar with spherical coordinate systems then you may remember these angle, but if not no worries we'll give you a quick rundown !\n",
    "\n",
    "You can think of looking up and and down as looking in different _zenith_ directions. If you looked straight up, you would be looking at zenith of $0^{\\circ}$ and straight ahead a zenith of $90^{\\circ}$. Looking left or right allows you to look at different azimuths. If we define looking straight ahead as azimuth of $0^{\\circ}$, the when we looked over our left (right) shoulders, we would be looking at an azimuth of $90^{\\circ}$ ($-90^{\\circ}$).\n",
    "\n",
    "You can play around with the following little diagram that shows how changing the zenith or azimuth changes the direction vector to build up some intuition for these. Can you try to get the vector to point to Cambridge ?"
   ]
  },
  {
   "cell_type": "code",
   "execution_count": null,
   "id": "7116152a-0e81-438f-9301-aae36c244261",
   "metadata": {},
   "outputs": [],
   "source": [
    "# earth coordinates:\n",
    "long = -90.0\n",
    "lat = -90.0\n",
    "\n",
    "# neutrino direction coordinates:\n",
    "azi = 60.0\n",
    "zen = 135.0\n",
    "\n",
    "plot_direction_from_earth(lat=lat, long=long, azi=azi, zen=zen)"
   ]
  },
  {
   "cell_type": "markdown",
   "id": "500f67dd-536a-47df-a738-441bb51cc2ba",
   "metadata": {},
   "source": [
    "# Where is the Moon ?\n",
    "\n",
    "The first thing that we will need to be able to calculate is the position of the Moon at given times. We have created a `Moon` object that has a `position` method. You can call this with a date given in a few different formats. First, you can give a datetime `str` in the form `\"YYYY-MM-DD[-HH-MM-SS]\"`. Also you can provide this as a Modified Julian Date (MJD). While this may sound scary, it is just a way of representing a date as a number, with each day being one integer increment. Today is MJD 60,069 ! Obviously, this will depend on the latitude and longitude that we are at. Let's specify Cambridge's latitude and longitude !"
   ]
  },
  {
   "cell_type": "code",
   "execution_count": null,
   "id": "79e0ce3d-3cc6-4f7b-9a90-e159aa2c31de",
   "metadata": {},
   "outputs": [],
   "source": [
    "from analysis import moon\n",
    "\n",
    "cambridge_lat = 45.0\n",
    "cambridge_long = 30.0\n",
    "\n",
    "t = \"2023-05-21-12-00-00\" # Today at noon !\n",
    "zen, az = moon.position(t, lat=cambridge_lat, lon=cambridge_long)\n",
    "print(f\"At {t} the Moon was at zenith {zen} degrees and azimuth {az} degrees\")\n",
    "\n",
    "t = 60_085.5 # Also today at noon !\n",
    "zen, az = moon.position(t, lat=cambridge_lat, lon=cambridge_long)\n",
    "print(f\"At {t} MJD the Moon was at zenith {zen} degrees and azimuth {az} degrees\")"
   ]
  },
  {
   "cell_type": "markdown",
   "id": "1db95041-c3bc-4825-88dc-284769732d45",
   "metadata": {},
   "source": [
    "## Now we can ask what happens as the Moon moves through the sky for many days. you can fill in your own start and end date ! See what happens when you change the range from months scale to years !"
   ]
  },
  {
   "cell_type": "code",
   "execution_count": null,
   "id": "fab3dbe6-3a37-46a9-badf-40e5ffa5580a",
   "metadata": {},
   "outputs": [],
   "source": [
    "import numpy as np\n",
    "from datetime import datetime\n",
    "from tqdm.notebook import tqdm\n",
    "\n",
    "start_date = \"2010-11-14\"\n",
    "# Fill out an end date !\n",
    "end_date = \"2023-05-04\"\n",
    "# end_date = \n",
    "\n",
    "dates = np.arange(start_date, end_date, dtype='datetime64[D]')\n",
    "\n",
    "moon_zeniths = []\n",
    "moon_azimuths = []\n",
    "\n",
    "# Now we iterate over all the dates, and calculate the moon position for each.\n",
    "# At each step, we will `append` the zenith and azimuth to our lists\n",
    "for idx, date in tqdm(enumerate(dates)):\n",
    "    \n",
    "    # Call `moon.position` to find it's direction\n",
    "    zen, az = \n",
    "    \n",
    "    moon_zeniths.append(zen)\n",
    "    \n",
    "    # Put the azimuth in the correct array :-)"
   ]
  },
  {
   "cell_type": "markdown",
   "id": "1c7854ce-5695-4f18-9084-52cf558178af",
   "metadata": {},
   "source": [
    "## Let's make some plots of this and see if there is anything interesting."
   ]
  },
  {
   "cell_type": "code",
   "execution_count": null,
   "id": "f1dd9cd8-f08b-4b37-8921-e8ffe4420e55",
   "metadata": {
    "tags": []
   },
   "outputs": [],
   "source": [
    "import matplotlib.pyplot as plt\n",
    "\n",
    "# Make a plot of the azimuthal angle !\n",
    "fig, ax = plt.subplots(figsize=(10,5))\n",
    "plt.plot(dates, np.degrees(moon_azimuths))\n",
    "plt.xlabel(\"Date\")\n",
    "plt.ylabel(r\"Azimuth angle [$^\\circ$]\")\n",
    "plt.show()\n",
    "\n",
    "# Your turn to make the zenith plot.\n",
    "# Don't forget to label you axes !!!"
   ]
  },
  {
   "cell_type": "markdown",
   "id": "a337fe41-2433-493a-84e0-58b997e9802f",
   "metadata": {},
   "source": [
    "## These are fine if perhaps a bit underwhelming, but we can visualize this in a more intuitive way. A _sky map_ helps us visualize all the sky at once. Let's plot try that out !"
   ]
  },
  {
   "cell_type": "code",
   "execution_count": null,
   "id": "ef76a8d3-7c51-47c2-96b3-47df5d17e622",
   "metadata": {},
   "outputs": [],
   "source": [
    "from analysis import plot_skymap\n",
    "plot_skymap(moon_zeniths, moon_azimuths)"
   ]
  },
  {
   "cell_type": "markdown",
   "id": "9b202406-78f8-4b97-8926-ca722f9dbabf",
   "metadata": {},
   "source": [
    "## Before moving along, take a second to turn some of these knobs and see what happens ! The best way to build up intuition is fiddling around and seeing what happens :-)"
   ]
  },
  {
   "cell_type": "markdown",
   "id": "5de9de4e-a392-4625-a84f-846d0611ae5f",
   "metadata": {},
   "source": [
    "# Reconstructing the event directions !\n",
    "\n",
    "If we want to find out where a neutrino came from, we must attempt to reconstruct the direction from the light we saw in the detector. In the following, we will "
   ]
  },
  {
   "cell_type": "code",
   "execution_count": null,
   "id": "418577f6-2f27-44fa-a4fd-ea87456d3426",
   "metadata": {},
   "outputs": [],
   "source": [
    "from analysis import DataReader\n",
    "tracks = DataReader(\"tracks.parquet\")"
   ]
  },
  {
   "cell_type": "code",
   "execution_count": null,
   "id": "11a45265-955a-4a45-bab0-36716d853589",
   "metadata": {
    "tags": []
   },
   "outputs": [],
   "source": [
    "from analysis import reco_game\n",
    "reco_game(tracks)"
   ]
  },
  {
   "cell_type": "markdown",
   "id": "92e5bb14-3910-41b0-baf5-3eaaec1a922d",
   "metadata": {},
   "source": [
    "### Now we can do the same but for another class of events, cascades."
   ]
  },
  {
   "cell_type": "code",
   "execution_count": null,
   "id": "c12bc170-cce4-4602-86e9-458b3b1c6aaf",
   "metadata": {},
   "outputs": [],
   "source": [
    "cascades = DataReader(\"cascades.parquet\")\n",
    "reco_game(cascades)"
   ]
  },
  {
   "cell_type": "markdown",
   "id": "49f85ddf-6b82-405c-8a3c-33da53b56c13",
   "metadata": {},
   "source": [
    "### Which of these _morphologies_ did you find it easier to guess the direction for ? What does this tell you about what kind of events one should use for an analysis where we want to point to a specific object ?"
   ]
  },
  {
   "cell_type": "markdown",
   "id": "6bacdb77-81ca-4db8-a857-8a8b6a3b15ad",
   "metadata": {},
   "source": [
    "## Let's see if we can see the Moon !"
   ]
  },
  {
   "cell_type": "markdown",
   "id": "86a0cc6f-465b-4ab7-8c14-27ec0274565d",
   "metadata": {},
   "source": [
    "First, we will need to compute the position of the Moon when we observed each event. The tracks have a field `time` where we give the time we saw the event. Combine this with our `moon` position method to find the position of the Moon when we saw each event."
   ]
  },
  {
   "cell_type": "code",
   "execution_count": null,
   "id": "fa3696be-a632-4022-a850-4bcaefcd1239",
   "metadata": {},
   "outputs": [],
   "source": [
    "# from tqdm.notebook import tqdm\n",
    "moon_zeniths = []\n",
    "moon_azimuths = []\n",
    "\n",
    "for time in tqdm(tracks[\"time\"]):\n",
    "    \n",
    "    zen, az = \n",
    "    # Now `append` to the proper lists\n",
    "    "
   ]
  },
  {
   "cell_type": "code",
   "execution_count": null,
   "id": "4d3d8117-1792-4855-aecf-89f01f939cf3",
   "metadata": {},
   "outputs": [],
   "source": [
    "delta_zeniths = []\n",
    "for zenith, moon_zenith in zip(tracks[\"zenith\"], moon_zeniths):\n",
    "    delta_zenith = zenith - moon_zenith\n",
    "    delta_zeniths.append(delta_zenith)"
   ]
  },
  {
   "cell_type": "markdown",
   "id": "485ab133-bf29-4ee8-9819-dc5896c60fe8",
   "metadata": {},
   "source": [
    "## Can you do the same for azimuths ?\n",
    "\n",
    "There is a subtlety here that comes from the periodic nature of the azimuth anlge. Do you see what this is ? Can you think of a way to address this ? Maybe discuss with other students or talk to one of the instructors."
   ]
  },
  {
   "cell_type": "code",
   "execution_count": null,
   "id": "8b2fe305-54e3-44a7-9356-e98abaf683b5",
   "metadata": {},
   "outputs": [],
   "source": [
    "# This will be blank in the final version.\n",
    "delta_azimuths = []\n",
    "\n",
    "for azimuth, moon_azimuth in zip(tracks[\"azimuth\"], moon_azimuths):\n",
    "    delta_az = "
   ]
  },
  {
   "cell_type": "markdown",
   "id": "877ba9cc-396f-499b-962f-fe322f63a655",
   "metadata": {},
   "source": [
    "### Let's plot a histogram of the angular distance from the center of the Moon.\n",
    "\n",
    "We will use a histogram for this, which is one of particle physicists favorite tools for looking at data. It will tell you how many events fall within a certain range of values. Experiment with different number of bins in each direction, and try to see if you can understand the tradeoff of having either too many bins or too few. If you want to personalize your plot, you can change the colormap that is used by changing the `cmap` keyword argument. You can find a loit of allowed colormaps [here](https://matplotlib.org/stable/tutorials/colors/colormaps.html). \n",
    "\n",
    "Also, what is that `sine` doing there ? Bonus points if you can figure it out..."
   ]
  },
  {
   "cell_type": "code",
   "execution_count": null,
   "id": "3fc0cc85-756a-4ffc-bcba-a1ce98345080",
   "metadata": {},
   "outputs": [],
   "source": [
    "from analysis import sine, make_plot\n",
    "import numpy as np\n",
    "\n",
    "minimum_angle = -5 # degrees\n",
    "maximum_angle = 5 # degrees\n",
    "n_bins = \n",
    "\n",
    "angle_bins = np.linspace(minimum_angle, maximum_angle, n_bins+1)\n",
    "\n",
    "h, _, _ = np.histogram2d(\n",
    "    sine(tracks[\"zenith\"]) * delta_azimuths,\n",
    "    delta_zeniths,\n",
    "    bins=[angle_bins, angle_bins]\n",
    ")\n",
    "\n",
    "make_plot(h, angle_bins, cmap=\"cool_r\")"
   ]
  },
  {
   "cell_type": "markdown",
   "id": "ac63a8d6-e77d-4fcc-b06f-8615a73cf6d0",
   "metadata": {},
   "source": [
    "## Investigation into the dependence on energy\n",
    "\n",
    "By running the following cell, you will see the energy of each of the neutrinos that gave rise to the events in the reconstruction game. We'll then play the game again and try to see if any patterns jump out."
   ]
  },
  {
   "cell_type": "code",
   "execution_count": null,
   "id": "7c7d1cac-2def-4efa-b271-367ab6dad89c",
   "metadata": {},
   "outputs": [],
   "source": [
    "event_list = [24, 18973, 25456, 80336, 18901, 172, 47547, 5717, 831, 696]\n",
    "energies = []\n",
    "# go over each event_id in the event_list\n",
    "for idx, event_id in enumerate(event_list):\n",
    "    event = tracks[event_id] # extract the event from the data\n",
    "    energies.append(event.energy) # access the neutrino energy of the event, and store it in the energies list\n",
    "    print(f\"Event {idx+1} had energy {event.energy} GeV\")"
   ]
  },
  {
   "cell_type": "markdown",
   "id": "60f93e49-881a-4e27-98c0-bfb00a761acc",
   "metadata": {},
   "source": [
    "### Now let's look at reconstructing events again, and focus on whether we see any correlations between the energy and how easy it is to reconstruct the event"
   ]
  },
  {
   "cell_type": "code",
   "execution_count": null,
   "id": "9d328693-55f6-4f13-b2f2-a8bf30a10705",
   "metadata": {},
   "outputs": [],
   "source": [
    "reco_game(tracks)"
   ]
  },
  {
   "cell_type": "markdown",
   "id": "21e20c52-b420-4dd5-9638-20c968db0d2b",
   "metadata": {},
   "source": [
    "## Did you notice anything ? Does it look like higher energy events would be easier or harder to reconstruct ? Can you think of an intuitive answer for this ?\n",
    "\n",
    "We can use the `mask_energy` method of the `DataLoader` object to only include energy inbetween `emin` GeV and `emax` GeV. Maybe try to run this analysis again limiting the energy range and note if you see any trends. You can go back to using all the events by using the `unmask` method."
   ]
  },
  {
   "cell_type": "code",
   "execution_count": null,
   "id": "89001dd9-ecb4-414c-b83b-bc057349a209",
   "metadata": {
    "jupyter": {
     "source_hidden": true
    },
    "tags": []
   },
   "outputs": [],
   "source": [
    "emin = 5_000\n",
    "emax = 1000000\n",
    "# emin = \n",
    "# emax = \n",
    "tracks.mask_energy(emin, emax)\n",
    "\n",
    "moon_zeniths = []\n",
    "moon_azimuths = []\n",
    "\n",
    "for time in tqdm(tracks[\"time\"]):\n",
    "    \n",
    "    zen, az = moon.position(time)\n",
    "    moon_zeniths.append(zen)\n",
    "    moon_azimuths.append(az)\n",
    "    \n",
    "delta_zeniths = []\n",
    "for zenith, moon_zenith in zip(tracks[\"zenith\"], moon_zeniths):\n",
    "    delta_zenith = zenith - moon_zenith\n",
    "    delta_zeniths.append(delta_zenith)\n",
    "    \n",
    "# This will be blank in the final version.\n",
    "delta_azimuths = []\n",
    "\n",
    "for azimuth, moon_azimuth in zip(tracks[\"azimuth\"], moon_azimuths):\n",
    "    \n",
    "    delta_az = azimuth - moon_azimuth\n",
    "    if delta_az < -180:\n",
    "        delta_az += 360\n",
    "    elif delta_az > 180:\n",
    "        delta_az -= 360\n",
    "    delta_azimuths.append(delta_az)"
   ]
  },
  {
   "cell_type": "code",
   "execution_count": null,
   "id": "99290d38-2714-433f-8c4f-07a9f7819490",
   "metadata": {
    "jupyter": {
     "source_hidden": true
    },
    "tags": []
   },
   "outputs": [],
   "source": [
    "import numpy as np\n",
    "minimum_angle = -5 # degrees\n",
    "maximum_angle = 5 # degrees\n",
    "n_bins = 20\n",
    "angle_bins = np.linspace(minimum_angle, maximum_angle, n_bins+1)\n",
    "\n",
    "h, _, _ = np.histogram2d(\n",
    "    sine(tracks[\"zenith\"]) * delta_azimuths,\n",
    "    delta_zeniths,\n",
    "    bins=[angle_bins, angle_bins]\n",
    ")\n",
    "\n",
    "make_plot(h, angle_bins, cmap=\"cool_r\")"
   ]
  },
  {
   "cell_type": "code",
   "execution_count": null,
   "id": "8fefe3ca-e9f5-4cdd-b7a3-1b97449ba462",
   "metadata": {},
   "outputs": [],
   "source": []
  }
 ],
 "metadata": {
  "kernelspec": {
   "display_name": "Python 3 (ipykernel)",
   "language": "python",
   "name": "python3"
  },
  "language_info": {
   "codemirror_mode": {
    "name": "ipython",
    "version": 3
   },
   "file_extension": ".py",
   "mimetype": "text/x-python",
   "name": "python",
   "nbconvert_exporter": "python",
   "pygments_lexer": "ipython3",
   "version": "3.10.7"
  }
 },
 "nbformat": 4,
 "nbformat_minor": 5
}
